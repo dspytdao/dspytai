{
 "cells": [
  {
   "cell_type": "code",
   "execution_count": 81,
   "id": "544a1619",
   "metadata": {},
   "outputs": [],
   "source": [
    "import json\n",
    "import pandas as pd\n",
    "import numpy as np\n",
    "\n",
    "import joblib\n",
    "\n",
    "from sklearn.compose import ColumnTransformer\n",
    "from sklearn.pipeline import Pipeline\n",
    "from sklearn.preprocessing import StandardScaler, OneHotEncoder, LabelEncoder, RobustScaler, PowerTransformer, PolynomialFeatures, MinMaxScaler\n",
    "from sklearn.ensemble import RandomForestRegressor, GradientBoostingRegressor, AdaBoostRegressor, StackingRegressor\n",
    "from sklearn.metrics import mean_absolute_error\n",
    "from sklearn.feature_selection import SelectFromModel\n",
    "from sklearn.neural_network import MLPRegressor\n",
    "\n",
    "import requests\n",
    "from datetime import datetime\n",
    "\n",
    "import seaborn as sns\n",
    "import matplotlib.pyplot as plt\n",
    "from scipy.stats import norm, skew, boxcox_normmax, probplot"
   ]
  },
  {
   "cell_type": "code",
   "execution_count": 82,
   "id": "00ffe889",
   "metadata": {},
   "outputs": [],
   "source": [
    "FORWARD_STEPS = 10"
   ]
  },
  {
   "cell_type": "markdown",
   "id": "c55c929d",
   "metadata": {},
   "source": [
    "https://docs.uniswap.org/sdk/subgraph/subgraph-examples"
   ]
  },
  {
   "cell_type": "code",
   "execution_count": 83,
   "id": "dbf0b9c8",
   "metadata": {},
   "outputs": [],
   "source": [
    "def get_data(address):\n",
    "    query = f\"\"\"\n",
    "        {{token (id: \"{address}\"){{tokenDayData(first:1000, skip:2) {{ priceUSD date open close high low volume volumeUSD}} }} }}\n",
    "        \"\"\"\n",
    "    r = requests.post(url, json={'query': query})\n",
    "    json_data = json.loads(r.text)\n",
    "\n",
    "    df_data = json_data['data']['token']['tokenDayData']\n",
    "    df = pd.DataFrame(df_data)\n",
    "    return df"
   ]
  },
  {
   "cell_type": "code",
   "execution_count": 84,
   "id": "3748ac62",
   "metadata": {
    "scrolled": true
   },
   "outputs": [],
   "source": [
    "test_address = \"0x1f9840a85d5af5bf1d1762f925bdaddc4201f984\"\n",
    "initial_df = get_data(test_address)\n",
    "initial_df_len = len(initial_df)"
   ]
  },
  {
   "cell_type": "markdown",
   "id": "30789dba",
   "metadata": {},
   "source": [
    "# EDA"
   ]
  },
  {
   "cell_type": "code",
   "execution_count": 85,
   "id": "d6789857",
   "metadata": {},
   "outputs": [
    {
     "name": "stdout",
     "output_type": "stream",
     "text": [
      "<class 'pandas.core.frame.DataFrame'>\n",
      "RangeIndex: 561 entries, 0 to 560\n",
      "Data columns (total 8 columns):\n",
      " #   Column     Non-Null Count  Dtype \n",
      "---  ------     --------------  ----- \n",
      " 0   priceUSD   561 non-null    object\n",
      " 1   date       561 non-null    int64 \n",
      " 2   open       561 non-null    object\n",
      " 3   close      561 non-null    object\n",
      " 4   high       561 non-null    object\n",
      " 5   low        561 non-null    object\n",
      " 6   volume     561 non-null    object\n",
      " 7   volumeUSD  561 non-null    object\n",
      "dtypes: int64(1), object(7)\n",
      "memory usage: 35.2+ KB\n"
     ]
    }
   ],
   "source": [
    "initial_df.info()"
   ]
  },
  {
   "cell_type": "code",
   "execution_count": 86,
   "id": "1ed3179b",
   "metadata": {},
   "outputs": [],
   "source": [
    "columns = ['priceUSD', 'open', 'close', 'high', 'low', 'volume', 'volumeUSD']\n",
    "\n",
    "for x in columns:\n",
    "    initial_df[x] = initial_df[x].astype(float)"
   ]
  },
  {
   "cell_type": "code",
   "execution_count": 87,
   "id": "b3168c85",
   "metadata": {},
   "outputs": [
    {
     "data": {
      "text/html": [
       "<div>\n",
       "<style scoped>\n",
       "    .dataframe tbody tr th:only-of-type {\n",
       "        vertical-align: middle;\n",
       "    }\n",
       "\n",
       "    .dataframe tbody tr th {\n",
       "        vertical-align: top;\n",
       "    }\n",
       "\n",
       "    .dataframe thead th {\n",
       "        text-align: right;\n",
       "    }\n",
       "</style>\n",
       "<table border=\"1\" class=\"dataframe\">\n",
       "  <thead>\n",
       "    <tr style=\"text-align: right;\">\n",
       "      <th></th>\n",
       "      <th>priceUSD</th>\n",
       "      <th>date</th>\n",
       "      <th>open</th>\n",
       "      <th>close</th>\n",
       "      <th>high</th>\n",
       "      <th>low</th>\n",
       "      <th>volume</th>\n",
       "      <th>volumeUSD</th>\n",
       "    </tr>\n",
       "  </thead>\n",
       "  <tbody>\n",
       "    <tr>\n",
       "      <th>count</th>\n",
       "      <td>561.000000</td>\n",
       "      <td>5.610000e+02</td>\n",
       "      <td>561.000000</td>\n",
       "      <td>561.000000</td>\n",
       "      <td>561.000000</td>\n",
       "      <td>561.000000</td>\n",
       "      <td>5.610000e+02</td>\n",
       "      <td>5.610000e+02</td>\n",
       "    </tr>\n",
       "    <tr>\n",
       "      <th>mean</th>\n",
       "      <td>14.644547</td>\n",
       "      <td>1.644451e+09</td>\n",
       "      <td>14.712498</td>\n",
       "      <td>14.644547</td>\n",
       "      <td>15.336186</td>\n",
       "      <td>13.989928</td>\n",
       "      <td>5.407817e+05</td>\n",
       "      <td>7.604261e+06</td>\n",
       "    </tr>\n",
       "    <tr>\n",
       "      <th>std</th>\n",
       "      <td>8.668113</td>\n",
       "      <td>1.400466e+07</td>\n",
       "      <td>8.738493</td>\n",
       "      <td>8.668113</td>\n",
       "      <td>9.132454</td>\n",
       "      <td>8.287403</td>\n",
       "      <td>5.789074e+05</td>\n",
       "      <td>9.177449e+06</td>\n",
       "    </tr>\n",
       "    <tr>\n",
       "      <th>min</th>\n",
       "      <td>3.645075</td>\n",
       "      <td>1.620259e+09</td>\n",
       "      <td>3.654224</td>\n",
       "      <td>3.645075</td>\n",
       "      <td>3.904146</td>\n",
       "      <td>2.906710</td>\n",
       "      <td>1.949339e+04</td>\n",
       "      <td>2.057296e+05</td>\n",
       "    </tr>\n",
       "    <tr>\n",
       "      <th>25%</th>\n",
       "      <td>6.810463</td>\n",
       "      <td>1.632355e+09</td>\n",
       "      <td>6.862817</td>\n",
       "      <td>6.810463</td>\n",
       "      <td>7.086080</td>\n",
       "      <td>6.576226</td>\n",
       "      <td>2.075827e+05</td>\n",
       "      <td>2.118463e+06</td>\n",
       "    </tr>\n",
       "    <tr>\n",
       "      <th>50%</th>\n",
       "      <td>11.134227</td>\n",
       "      <td>1.644451e+09</td>\n",
       "      <td>11.206072</td>\n",
       "      <td>11.134227</td>\n",
       "      <td>11.660897</td>\n",
       "      <td>10.597077</td>\n",
       "      <td>4.094427e+05</td>\n",
       "      <td>4.347922e+06</td>\n",
       "    </tr>\n",
       "    <tr>\n",
       "      <th>75%</th>\n",
       "      <td>22.045277</td>\n",
       "      <td>1.656547e+09</td>\n",
       "      <td>22.090684</td>\n",
       "      <td>22.045277</td>\n",
       "      <td>23.236679</td>\n",
       "      <td>20.865919</td>\n",
       "      <td>6.640339e+05</td>\n",
       "      <td>9.276507e+06</td>\n",
       "    </tr>\n",
       "    <tr>\n",
       "      <th>max</th>\n",
       "      <td>40.572031</td>\n",
       "      <td>1.668643e+09</td>\n",
       "      <td>42.129562</td>\n",
       "      <td>40.572031</td>\n",
       "      <td>43.846977</td>\n",
       "      <td>39.770178</td>\n",
       "      <td>7.982269e+06</td>\n",
       "      <td>6.138762e+07</td>\n",
       "    </tr>\n",
       "  </tbody>\n",
       "</table>\n",
       "</div>"
      ],
      "text/plain": [
       "         priceUSD          date        open       close        high  \\\n",
       "count  561.000000  5.610000e+02  561.000000  561.000000  561.000000   \n",
       "mean    14.644547  1.644451e+09   14.712498   14.644547   15.336186   \n",
       "std      8.668113  1.400466e+07    8.738493    8.668113    9.132454   \n",
       "min      3.645075  1.620259e+09    3.654224    3.645075    3.904146   \n",
       "25%      6.810463  1.632355e+09    6.862817    6.810463    7.086080   \n",
       "50%     11.134227  1.644451e+09   11.206072   11.134227   11.660897   \n",
       "75%     22.045277  1.656547e+09   22.090684   22.045277   23.236679   \n",
       "max     40.572031  1.668643e+09   42.129562   40.572031   43.846977   \n",
       "\n",
       "              low        volume     volumeUSD  \n",
       "count  561.000000  5.610000e+02  5.610000e+02  \n",
       "mean    13.989928  5.407817e+05  7.604261e+06  \n",
       "std      8.287403  5.789074e+05  9.177449e+06  \n",
       "min      2.906710  1.949339e+04  2.057296e+05  \n",
       "25%      6.576226  2.075827e+05  2.118463e+06  \n",
       "50%     10.597077  4.094427e+05  4.347922e+06  \n",
       "75%     20.865919  6.640339e+05  9.276507e+06  \n",
       "max     39.770178  7.982269e+06  6.138762e+07  "
      ]
     },
     "execution_count": 87,
     "metadata": {},
     "output_type": "execute_result"
    }
   ],
   "source": [
    "initial_df.describe()"
   ]
  },
  {
   "cell_type": "code",
   "execution_count": 88,
   "id": "8fa47e41",
   "metadata": {},
   "outputs": [
    {
     "data": {
      "image/png": "[encoded data removed]",
      "text/plain": [
       "<Figure size 360x360 with 1 Axes>"
      ]
     },
     "metadata": {
      "needs_background": "light"
     },
     "output_type": "display_data"
    },
    {
     "data": {
      "image/png": "[encoded data removed]",
      "text/plain": [
       "<Figure size 432x288 with 1 Axes>"
      ]
     },
     "metadata": {
      "needs_background": "light"
     },
     "output_type": "display_data"
    }
   ],
   "source": [
    "def plot_dist(var):\n",
    "    sns.displot(var);\n",
    "    (mu, sigma) = norm.fit(var)\n",
    "\n",
    "    #plot the distribution\n",
    "    plt.legend(['Normal dist. ($\\mu=$ {:.2f} and $\\sigma=$ {:.2f} )'.format(mu, sigma)],\n",
    "                loc='best')\n",
    "    plt.ylabel('Frequency')\n",
    "    plt.title('Distribution')\n",
    "\n",
    "    #QQ-plot\n",
    "    plt.figure()\n",
    "    probplot(var, plot=plt)\n",
    "    plt.show()\n",
    "\n",
    "plot_dist(initial_df['priceUSD'])"
   ]
  },
  {
   "cell_type": "markdown",
   "id": "e9c1496f",
   "metadata": {},
   "source": [
    "## Target value Transformation"
   ]
  },
  {
   "cell_type": "code",
   "execution_count": 89,
   "id": "b641967b",
   "metadata": {},
   "outputs": [
    {
     "data": {
      "image/png": "[encoded data removed]",
      "text/plain": [
       "<Figure size 360x360 with 1 Axes>"
      ]
     },
     "metadata": {
      "needs_background": "light"
     },
     "output_type": "display_data"
    },
    {
     "data": {
      "image/png": "[encoded data removed]",
      "text/plain": [
       "<Figure size 432x288 with 1 Axes>"
      ]
     },
     "metadata": {
      "needs_background": "light"
     },
     "output_type": "display_data"
    }
   ],
   "source": [
    "initial_df[\"priceUSD\"] = np.log1p(initial_df[\"priceUSD\"])\n",
    "plot_dist(initial_df['priceUSD'])"
   ]
  },
  {
   "cell_type": "markdown",
   "id": "df66adf2",
   "metadata": {},
   "source": [
    "## Features Skew Elimination"
   ]
  },
  {
   "cell_type": "code",
   "execution_count": 90,
   "id": "97bc3181",
   "metadata": {},
   "outputs": [
    {
     "name": "stdout",
     "output_type": "stream",
     "text": [
      "priceUSD     0.072881\n",
      "date         0.000000\n",
      "open         0.660212\n",
      "close        0.641710\n",
      "high         0.673982\n",
      "low          0.657644\n",
      "volume       5.137327\n",
      "volumeUSD    2.748430\n",
      "dtype: float64\n"
     ]
    }
   ],
   "source": [
    "numeric_feats = initial_df.dtypes[(initial_df.dtypes != \"object\") & (initial_df.dtypes != 'category') & (initial_df.dtypes!= 'datetime64[ns]')].index.tolist()\n",
    "\n",
    "skewed_feats = initial_df[numeric_feats].apply(lambda x: skew(x.dropna()))\n",
    "print(skewed_feats)"
   ]
  },
  {
   "cell_type": "code",
   "execution_count": 91,
   "id": "d3224ca9",
   "metadata": {},
   "outputs": [
    {
     "name": "stdout",
     "output_type": "stream",
     "text": [
      "['volume', 'volumeUSD']\n"
     ]
    }
   ],
   "source": [
    "sk = skewed_feats[abs(skewed_feats)>1].index.to_list()\n",
    "print(sk)"
   ]
  },
  {
   "cell_type": "code",
   "execution_count": 92,
   "id": "be43f247",
   "metadata": {},
   "outputs": [],
   "source": [
    "initial_df[sk] = np.log1p(initial_df[sk])"
   ]
  },
  {
   "cell_type": "markdown",
   "id": "d3c7fce5",
   "metadata": {},
   "source": [
    "## Feature Engineering"
   ]
  },
  {
   "cell_type": "code",
   "execution_count": 93,
   "id": "c9f0be7c",
   "metadata": {},
   "outputs": [],
   "source": [
    "def input_cells(latest_date, steps=15):\n",
    "    empty_predictions = pd.DataFrame({'date':[n*86400+latest_date for n in range(1, steps+1)]})\n",
    "    return empty_predictions"
   ]
  },
  {
   "cell_type": "code",
   "execution_count": 94,
   "id": "46b5f3e1",
   "metadata": {},
   "outputs": [],
   "source": [
    "def time_features(df):\n",
    "    df[\"utc\"] = df.date.apply(lambda x: datetime.utcfromtimestamp(x))\n",
    "    df['day'] = df.utc.apply(lambda time: time.day)\n",
    "    df[\"weekday\"] = df.utc.apply(lambda time: time.dayofweek)\n",
    "    df['month'] = df.utc.apply(lambda time: time.month)\n",
    "    df['year'] = df.utc.apply(lambda time: time.year).astype(\"category\")\n",
    "    return df\n",
    "\n",
    "df = time_features(initial_df)"
   ]
  },
  {
   "cell_type": "code",
   "execution_count": 95,
   "id": "6a27e561",
   "metadata": {},
   "outputs": [],
   "source": [
    "columns = ['open', 'close', 'high', 'low', 'volume', 'volumeUSD']\n",
    "\n",
    "for x in columns:\n",
    "    df[x] = df[x].shift(FORWARD_STEPS)"
   ]
  },
  {
   "cell_type": "code",
   "execution_count": 96,
   "id": "82e1ac13",
   "metadata": {},
   "outputs": [
    {
     "data": {
      "text/html": [
       "<div>\n",
       "<style scoped>\n",
       "    .dataframe tbody tr th:only-of-type {\n",
       "        vertical-align: middle;\n",
       "    }\n",
       "\n",
       "    .dataframe tbody tr th {\n",
       "        vertical-align: top;\n",
       "    }\n",
       "\n",
       "    .dataframe thead th {\n",
       "        text-align: right;\n",
       "    }\n",
       "</style>\n",
       "<table border=\"1\" class=\"dataframe\">\n",
       "  <thead>\n",
       "    <tr style=\"text-align: right;\">\n",
       "      <th></th>\n",
       "      <th>priceUSD</th>\n",
       "      <th>date</th>\n",
       "      <th>open</th>\n",
       "      <th>close</th>\n",
       "      <th>high</th>\n",
       "      <th>low</th>\n",
       "      <th>volume</th>\n",
       "      <th>volumeUSD</th>\n",
       "      <th>utc</th>\n",
       "      <th>day</th>\n",
       "      <th>weekday</th>\n",
       "      <th>month</th>\n",
       "      <th>year</th>\n",
       "    </tr>\n",
       "  </thead>\n",
       "  <tbody>\n",
       "    <tr>\n",
       "      <th>0</th>\n",
       "      <td>3.714674</td>\n",
       "      <td>1620259200</td>\n",
       "      <td>NaN</td>\n",
       "      <td>NaN</td>\n",
       "      <td>NaN</td>\n",
       "      <td>NaN</td>\n",
       "      <td>NaN</td>\n",
       "      <td>NaN</td>\n",
       "      <td>2021-05-06</td>\n",
       "      <td>6</td>\n",
       "      <td>3</td>\n",
       "      <td>5</td>\n",
       "      <td>2021</td>\n",
       "    </tr>\n",
       "    <tr>\n",
       "      <th>1</th>\n",
       "      <td>3.705376</td>\n",
       "      <td>1620345600</td>\n",
       "      <td>NaN</td>\n",
       "      <td>NaN</td>\n",
       "      <td>NaN</td>\n",
       "      <td>NaN</td>\n",
       "      <td>NaN</td>\n",
       "      <td>NaN</td>\n",
       "      <td>2021-05-07</td>\n",
       "      <td>7</td>\n",
       "      <td>4</td>\n",
       "      <td>5</td>\n",
       "      <td>2021</td>\n",
       "    </tr>\n",
       "    <tr>\n",
       "      <th>2</th>\n",
       "      <td>3.727428</td>\n",
       "      <td>1620432000</td>\n",
       "      <td>NaN</td>\n",
       "      <td>NaN</td>\n",
       "      <td>NaN</td>\n",
       "      <td>NaN</td>\n",
       "      <td>NaN</td>\n",
       "      <td>NaN</td>\n",
       "      <td>2021-05-08</td>\n",
       "      <td>8</td>\n",
       "      <td>5</td>\n",
       "      <td>5</td>\n",
       "      <td>2021</td>\n",
       "    </tr>\n",
       "    <tr>\n",
       "      <th>3</th>\n",
       "      <td>3.697291</td>\n",
       "      <td>1620518400</td>\n",
       "      <td>NaN</td>\n",
       "      <td>NaN</td>\n",
       "      <td>NaN</td>\n",
       "      <td>NaN</td>\n",
       "      <td>NaN</td>\n",
       "      <td>NaN</td>\n",
       "      <td>2021-05-09</td>\n",
       "      <td>9</td>\n",
       "      <td>6</td>\n",
       "      <td>5</td>\n",
       "      <td>2021</td>\n",
       "    </tr>\n",
       "    <tr>\n",
       "      <th>4</th>\n",
       "      <td>3.627269</td>\n",
       "      <td>1620604800</td>\n",
       "      <td>NaN</td>\n",
       "      <td>NaN</td>\n",
       "      <td>NaN</td>\n",
       "      <td>NaN</td>\n",
       "      <td>NaN</td>\n",
       "      <td>NaN</td>\n",
       "      <td>2021-05-10</td>\n",
       "      <td>10</td>\n",
       "      <td>0</td>\n",
       "      <td>5</td>\n",
       "      <td>2021</td>\n",
       "    </tr>\n",
       "    <tr>\n",
       "      <th>...</th>\n",
       "      <td>...</td>\n",
       "      <td>...</td>\n",
       "      <td>...</td>\n",
       "      <td>...</td>\n",
       "      <td>...</td>\n",
       "      <td>...</td>\n",
       "      <td>...</td>\n",
       "      <td>...</td>\n",
       "      <td>...</td>\n",
       "      <td>...</td>\n",
       "      <td>...</td>\n",
       "      <td>...</td>\n",
       "      <td>...</td>\n",
       "    </tr>\n",
       "    <tr>\n",
       "      <th>556</th>\n",
       "      <td>1.917428</td>\n",
       "      <td>1668297600</td>\n",
       "      <td>7.072934</td>\n",
       "      <td>6.920803</td>\n",
       "      <td>7.404688</td>\n",
       "      <td>6.918161</td>\n",
       "      <td>13.541586</td>\n",
       "      <td>15.516229</td>\n",
       "      <td>2022-11-13</td>\n",
       "      <td>13</td>\n",
       "      <td>6</td>\n",
       "      <td>11</td>\n",
       "      <td>2022</td>\n",
       "    </tr>\n",
       "    <tr>\n",
       "      <th>557</th>\n",
       "      <td>1.955355</td>\n",
       "      <td>1668384000</td>\n",
       "      <td>6.920761</td>\n",
       "      <td>7.541704</td>\n",
       "      <td>7.718019</td>\n",
       "      <td>6.838108</td>\n",
       "      <td>14.245108</td>\n",
       "      <td>16.239598</td>\n",
       "      <td>2022-11-14</td>\n",
       "      <td>14</td>\n",
       "      <td>0</td>\n",
       "      <td>11</td>\n",
       "      <td>2022</td>\n",
       "    </tr>\n",
       "    <tr>\n",
       "      <th>558</th>\n",
       "      <td>1.984157</td>\n",
       "      <td>1668470400</td>\n",
       "      <td>7.543823</td>\n",
       "      <td>7.687336</td>\n",
       "      <td>7.866911</td>\n",
       "      <td>7.543823</td>\n",
       "      <td>14.075278</td>\n",
       "      <td>16.114012</td>\n",
       "      <td>2022-11-15</td>\n",
       "      <td>15</td>\n",
       "      <td>1</td>\n",
       "      <td>11</td>\n",
       "      <td>2022</td>\n",
       "    </tr>\n",
       "    <tr>\n",
       "      <th>559</th>\n",
       "      <td>1.939570</td>\n",
       "      <td>1668556800</td>\n",
       "      <td>7.684777</td>\n",
       "      <td>7.092123</td>\n",
       "      <td>7.712900</td>\n",
       "      <td>7.065922</td>\n",
       "      <td>13.371307</td>\n",
       "      <td>15.387756</td>\n",
       "      <td>2022-11-16</td>\n",
       "      <td>16</td>\n",
       "      <td>2</td>\n",
       "      <td>11</td>\n",
       "      <td>2022</td>\n",
       "    </tr>\n",
       "    <tr>\n",
       "      <th>560</th>\n",
       "      <td>1.913546</td>\n",
       "      <td>1668643200</td>\n",
       "      <td>7.086867</td>\n",
       "      <td>6.999600</td>\n",
       "      <td>7.641192</td>\n",
       "      <td>6.925412</td>\n",
       "      <td>14.481963</td>\n",
       "      <td>16.458939</td>\n",
       "      <td>2022-11-17</td>\n",
       "      <td>17</td>\n",
       "      <td>3</td>\n",
       "      <td>11</td>\n",
       "      <td>2022</td>\n",
       "    </tr>\n",
       "  </tbody>\n",
       "</table>\n",
       "<p>561 rows × 13 columns</p>\n",
       "</div>"
      ],
      "text/plain": [
       "     priceUSD        date      open     close      high       low     volume  \\\n",
       "0    3.714674  1620259200       NaN       NaN       NaN       NaN        NaN   \n",
       "1    3.705376  1620345600       NaN       NaN       NaN       NaN        NaN   \n",
       "2    3.727428  1620432000       NaN       NaN       NaN       NaN        NaN   \n",
       "3    3.697291  1620518400       NaN       NaN       NaN       NaN        NaN   \n",
       "4    3.627269  1620604800       NaN       NaN       NaN       NaN        NaN   \n",
       "..        ...         ...       ...       ...       ...       ...        ...   \n",
       "556  1.917428  1668297600  7.072934  6.920803  7.404688  6.918161  13.541586   \n",
       "557  1.955355  1668384000  6.920761  7.541704  7.718019  6.838108  14.245108   \n",
       "558  1.984157  1668470400  7.543823  7.687336  7.866911  7.543823  14.075278   \n",
       "559  1.939570  1668556800  7.684777  7.092123  7.712900  7.065922  13.371307   \n",
       "560  1.913546  1668643200  7.086867  6.999600  7.641192  6.925412  14.481963   \n",
       "\n",
       "     volumeUSD        utc  day  weekday  month  year  \n",
       "0          NaN 2021-05-06    6        3      5  2021  \n",
       "1          NaN 2021-05-07    7        4      5  2021  \n",
       "2          NaN 2021-05-08    8        5      5  2021  \n",
       "3          NaN 2021-05-09    9        6      5  2021  \n",
       "4          NaN 2021-05-10   10        0      5  2021  \n",
       "..         ...        ...  ...      ...    ...   ...  \n",
       "556  15.516229 2022-11-13   13        6     11  2022  \n",
       "557  16.239598 2022-11-14   14        0     11  2022  \n",
       "558  16.114012 2022-11-15   15        1     11  2022  \n",
       "559  15.387756 2022-11-16   16        2     11  2022  \n",
       "560  16.458939 2022-11-17   17        3     11  2022  \n",
       "\n",
       "[561 rows x 13 columns]"
      ]
     },
     "execution_count": 96,
     "metadata": {},
     "output_type": "execute_result"
    }
   ],
   "source": [
    "df"
   ]
  },
  {
   "cell_type": "markdown",
   "id": "5ef1cd65",
   "metadata": {},
   "source": [
    "## Training"
   ]
  },
  {
   "cell_type": "code",
   "execution_count": 97,
   "id": "e54ec81c",
   "metadata": {},
   "outputs": [],
   "source": [
    "ceiling = int(len(df)*0.8)"
   ]
  },
  {
   "cell_type": "code",
   "execution_count": 98,
   "id": "9e8b49fb",
   "metadata": {},
   "outputs": [],
   "source": [
    "train, test = df[10:ceiling], df[ceiling:]"
   ]
  },
  {
   "cell_type": "code",
   "execution_count": 99,
   "id": "5e69d34b",
   "metadata": {},
   "outputs": [
    {
     "data": {
      "text/plain": [
       "Index(['priceUSD', 'date', 'open', 'close', 'high', 'low', 'volume',\n",
       "       'volumeUSD', 'utc', 'day', 'weekday', 'month', 'year'],\n",
       "      dtype='object')"
      ]
     },
     "execution_count": 99,
     "metadata": {},
     "output_type": "execute_result"
    }
   ],
   "source": [
    "df.columns"
   ]
  },
  {
   "cell_type": "code",
   "execution_count": 100,
   "id": "6775297d",
   "metadata": {},
   "outputs": [],
   "source": [
    "numeric_features = [\n",
    "                    'weekday', \n",
    "                    'day', \n",
    "                    'month', \n",
    "                    'open', \n",
    "                    'close', \n",
    "                    'high', \n",
    "                    'low', \n",
    "                    'volume', \n",
    "                    'volumeUSD', \n",
    "                    'priceUSD',\n",
    "                    ]\n",
    "\n",
    "object_features = [\n",
    "    'year'\n",
    "]\n",
    "\n",
    "preprocessor = ColumnTransformer(\n",
    "    transformers=[\n",
    "        ('cat', OneHotEncoder(handle_unknown='ignore'), object_features),\n",
    "        ('num', RobustScaler() , numeric_features)\n",
    "    ])"
   ]
  },
  {
   "cell_type": "code",
   "execution_count": 101,
   "id": "232a1dba",
   "metadata": {},
   "outputs": [
    {
     "data": {
      "text/html": [
       "<style>#sk-container-id-2 {color: black;background-color: white;}#sk-container-id-2 pre{padding: 0;}#sk-container-id-2 div.sk-toggleable {background-color: white;}#sk-container-id-2 label.sk-toggleable__label {cursor: pointer;display: block;width: 100%;margin-bottom: 0;padding: 0.3em;box-sizing: border-box;text-align: center;}#sk-container-id-2 label.sk-toggleable__label-arrow:before {content: \"▸\";float: left;margin-right: 0.25em;color: #696969;}#sk-container-id-2 label.sk-toggleable__label-arrow:hover:before {color: black;}#sk-container-id-2 div.sk-estimator:hover label.sk-toggleable__label-arrow:before {color: black;}#sk-container-id-2 div.sk-toggleable__content {max-height: 0;max-width: 0;overflow: hidden;text-align: left;background-color: #f0f8ff;}#sk-container-id-2 div.sk-toggleable__content pre {margin: 0.2em;color: black;border-radius: 0.25em;background-color: #f0f8ff;}#sk-container-id-2 input.sk-toggleable__control:checked~div.sk-toggleable__content {max-height: 200px;max-width: 100%;overflow: auto;}#sk-container-id-2 input.sk-toggleable__control:checked~label.sk-toggleable__label-arrow:before {content: \"▾\";}#sk-container-id-2 div.sk-estimator input.sk-toggleable__control:checked~label.sk-toggleable__label {background-color: #d4ebff;}#sk-container-id-2 div.sk-label input.sk-toggleable__control:checked~label.sk-toggleable__label {background-color: #d4ebff;}#sk-container-id-2 input.sk-hidden--visually {border: 0;clip: rect(1px 1px 1px 1px);clip: rect(1px, 1px, 1px, 1px);height: 1px;margin: -1px;overflow: hidden;padding: 0;position: absolute;width: 1px;}#sk-container-id-2 div.sk-estimator {font-family: monospace;background-color: #f0f8ff;border: 1px dotted black;border-radius: 0.25em;box-sizing: border-box;margin-bottom: 0.5em;}#sk-container-id-2 div.sk-estimator:hover {background-color: #d4ebff;}#sk-container-id-2 div.sk-parallel-item::after {content: \"\";width: 100%;border-bottom: 1px solid gray;flex-grow: 1;}#sk-container-id-2 div.sk-label:hover label.sk-toggleable__label {background-color: #d4ebff;}#sk-container-id-2 div.sk-serial::before {content: \"\";position: absolute;border-left: 1px solid gray;box-sizing: border-box;top: 0;bottom: 0;left: 50%;z-index: 0;}#sk-container-id-2 div.sk-serial {display: flex;flex-direction: column;align-items: center;background-color: white;padding-right: 0.2em;padding-left: 0.2em;position: relative;}#sk-container-id-2 div.sk-item {position: relative;z-index: 1;}#sk-container-id-2 div.sk-parallel {display: flex;align-items: stretch;justify-content: center;background-color: white;position: relative;}#sk-container-id-2 div.sk-item::before, #sk-container-id-2 div.sk-parallel-item::before {content: \"\";position: absolute;border-left: 1px solid gray;box-sizing: border-box;top: 0;bottom: 0;left: 50%;z-index: -1;}#sk-container-id-2 div.sk-parallel-item {display: flex;flex-direction: column;z-index: 1;position: relative;background-color: white;}#sk-container-id-2 div.sk-parallel-item:first-child::after {align-self: flex-end;width: 50%;}#sk-container-id-2 div.sk-parallel-item:last-child::after {align-self: flex-start;width: 50%;}#sk-container-id-2 div.sk-parallel-item:only-child::after {width: 0;}#sk-container-id-2 div.sk-dashed-wrapped {border: 1px dashed gray;margin: 0 0.4em 0.5em 0.4em;box-sizing: border-box;padding-bottom: 0.4em;background-color: white;}#sk-container-id-2 div.sk-label label {font-family: monospace;font-weight: bold;display: inline-block;line-height: 1.2em;}#sk-container-id-2 div.sk-label-container {text-align: center;}#sk-container-id-2 div.sk-container {/* jupyter's `normalize.less` sets `[hidden] { display: none; }` but bootstrap.min.css set `[hidden] { display: none !important; }` so we also need the `!important` here to be able to override the default hidden behavior on the sphinx rendered scikit-learn.org. See: https://github.com/scikit-learn/scikit-learn/issues/21755 */display: inline-block !important;position: relative;}#sk-container-id-2 div.sk-text-repr-fallback {display: none;}</style><div id=\"sk-container-id-2\" class=\"sk-top-container\"><div class=\"sk-text-repr-fallback\"><pre>Pipeline(steps=[(&#x27;pre&#x27;,\n",
       "                 ColumnTransformer(transformers=[(&#x27;cat&#x27;,\n",
       "                                                  OneHotEncoder(handle_unknown=&#x27;ignore&#x27;),\n",
       "                                                  [&#x27;year&#x27;]),\n",
       "                                                 (&#x27;num&#x27;, RobustScaler(),\n",
       "                                                  [&#x27;weekday&#x27;, &#x27;day&#x27;, &#x27;month&#x27;,\n",
       "                                                   &#x27;open&#x27;, &#x27;close&#x27;, &#x27;high&#x27;,\n",
       "                                                   &#x27;low&#x27;, &#x27;volume&#x27;, &#x27;volumeUSD&#x27;,\n",
       "                                                   &#x27;priceUSD&#x27;])])),\n",
       "                (&#x27;poly&#x27;, PolynomialFeatures()),\n",
       "                (&#x27;selection&#x27;,\n",
       "                 SelectFromModel(estimator=RandomForestRegressor(n_estimators=150,\n",
       "                                                                 random_state=1))),\n",
       "                (&#x27;a&#x27;, MLPRegressor(max_iter=500, random_state=1))])</pre><b>In a Jupyter environment, please rerun this cell to show the HTML representation or trust the notebook. <br />On GitHub, the HTML representation is unable to render, please try loading this page with nbviewer.org.</b></div><div class=\"sk-container\" hidden><div class=\"sk-item sk-dashed-wrapped\"><div class=\"sk-label-container\"><div class=\"sk-label sk-toggleable\"><input class=\"sk-toggleable__control sk-hidden--visually\" id=\"sk-estimator-id-12\" type=\"checkbox\" ><label for=\"sk-estimator-id-12\" class=\"sk-toggleable__label sk-toggleable__label-arrow\">Pipeline</label><div class=\"sk-toggleable__content\"><pre>Pipeline(steps=[(&#x27;pre&#x27;,\n",
       "                 ColumnTransformer(transformers=[(&#x27;cat&#x27;,\n",
       "                                                  OneHotEncoder(handle_unknown=&#x27;ignore&#x27;),\n",
       "                                                  [&#x27;year&#x27;]),\n",
       "                                                 (&#x27;num&#x27;, RobustScaler(),\n",
       "                                                  [&#x27;weekday&#x27;, &#x27;day&#x27;, &#x27;month&#x27;,\n",
       "                                                   &#x27;open&#x27;, &#x27;close&#x27;, &#x27;high&#x27;,\n",
       "                                                   &#x27;low&#x27;, &#x27;volume&#x27;, &#x27;volumeUSD&#x27;,\n",
       "                                                   &#x27;priceUSD&#x27;])])),\n",
       "                (&#x27;poly&#x27;, PolynomialFeatures()),\n",
       "                (&#x27;selection&#x27;,\n",
       "                 SelectFromModel(estimator=RandomForestRegressor(n_estimators=150,\n",
       "                                                                 random_state=1))),\n",
       "                (&#x27;a&#x27;, MLPRegressor(max_iter=500, random_state=1))])</pre></div></div></div><div class=\"sk-serial\"><div class=\"sk-item sk-dashed-wrapped\"><div class=\"sk-label-container\"><div class=\"sk-label sk-toggleable\"><input class=\"sk-toggleable__control sk-hidden--visually\" id=\"sk-estimator-id-13\" type=\"checkbox\" ><label for=\"sk-estimator-id-13\" class=\"sk-toggleable__label sk-toggleable__label-arrow\">pre: ColumnTransformer</label><div class=\"sk-toggleable__content\"><pre>ColumnTransformer(transformers=[(&#x27;cat&#x27;, OneHotEncoder(handle_unknown=&#x27;ignore&#x27;),\n",
       "                                 [&#x27;year&#x27;]),\n",
       "                                (&#x27;num&#x27;, RobustScaler(),\n",
       "                                 [&#x27;weekday&#x27;, &#x27;day&#x27;, &#x27;month&#x27;, &#x27;open&#x27;, &#x27;close&#x27;,\n",
       "                                  &#x27;high&#x27;, &#x27;low&#x27;, &#x27;volume&#x27;, &#x27;volumeUSD&#x27;,\n",
       "                                  &#x27;priceUSD&#x27;])])</pre></div></div></div><div class=\"sk-parallel\"><div class=\"sk-parallel-item\"><div class=\"sk-item\"><div class=\"sk-label-container\"><div class=\"sk-label sk-toggleable\"><input class=\"sk-toggleable__control sk-hidden--visually\" id=\"sk-estimator-id-14\" type=\"checkbox\" ><label for=\"sk-estimator-id-14\" class=\"sk-toggleable__label sk-toggleable__label-arrow\">cat</label><div class=\"sk-toggleable__content\"><pre>[&#x27;year&#x27;]</pre></div></div></div><div class=\"sk-serial\"><div class=\"sk-item\"><div class=\"sk-estimator sk-toggleable\"><input class=\"sk-toggleable__control sk-hidden--visually\" id=\"sk-estimator-id-15\" type=\"checkbox\" ><label for=\"sk-estimator-id-15\" class=\"sk-toggleable__label sk-toggleable__label-arrow\">OneHotEncoder</label><div class=\"sk-toggleable__content\"><pre>OneHotEncoder(handle_unknown=&#x27;ignore&#x27;)</pre></div></div></div></div></div></div><div class=\"sk-parallel-item\"><div class=\"sk-item\"><div class=\"sk-label-container\"><div class=\"sk-label sk-toggleable\"><input class=\"sk-toggleable__control sk-hidden--visually\" id=\"sk-estimator-id-16\" type=\"checkbox\" ><label for=\"sk-estimator-id-16\" class=\"sk-toggleable__label sk-toggleable__label-arrow\">num</label><div class=\"sk-toggleable__content\"><pre>[&#x27;weekday&#x27;, &#x27;day&#x27;, &#x27;month&#x27;, &#x27;open&#x27;, &#x27;close&#x27;, &#x27;high&#x27;, &#x27;low&#x27;, &#x27;volume&#x27;, &#x27;volumeUSD&#x27;, &#x27;priceUSD&#x27;]</pre></div></div></div><div class=\"sk-serial\"><div class=\"sk-item\"><div class=\"sk-estimator sk-toggleable\"><input class=\"sk-toggleable__control sk-hidden--visually\" id=\"sk-estimator-id-17\" type=\"checkbox\" ><label for=\"sk-estimator-id-17\" class=\"sk-toggleable__label sk-toggleable__label-arrow\">RobustScaler</label><div class=\"sk-toggleable__content\"><pre>RobustScaler()</pre></div></div></div></div></div></div></div></div><div class=\"sk-item\"><div class=\"sk-estimator sk-toggleable\"><input class=\"sk-toggleable__control sk-hidden--visually\" id=\"sk-estimator-id-18\" type=\"checkbox\" ><label for=\"sk-estimator-id-18\" class=\"sk-toggleable__label sk-toggleable__label-arrow\">PolynomialFeatures</label><div class=\"sk-toggleable__content\"><pre>PolynomialFeatures()</pre></div></div></div><div class=\"sk-item sk-dashed-wrapped\"><div class=\"sk-label-container\"><div class=\"sk-label sk-toggleable\"><input class=\"sk-toggleable__control sk-hidden--visually\" id=\"sk-estimator-id-19\" type=\"checkbox\" ><label for=\"sk-estimator-id-19\" class=\"sk-toggleable__label sk-toggleable__label-arrow\">selection: SelectFromModel</label><div class=\"sk-toggleable__content\"><pre>SelectFromModel(estimator=RandomForestRegressor(n_estimators=150,\n",
       "                                                random_state=1))</pre></div></div></div><div class=\"sk-parallel\"><div class=\"sk-parallel-item\"><div class=\"sk-item\"><div class=\"sk-label-container\"><div class=\"sk-label sk-toggleable\"><input class=\"sk-toggleable__control sk-hidden--visually\" id=\"sk-estimator-id-20\" type=\"checkbox\" ><label for=\"sk-estimator-id-20\" class=\"sk-toggleable__label sk-toggleable__label-arrow\">estimator: RandomForestRegressor</label><div class=\"sk-toggleable__content\"><pre>RandomForestRegressor(n_estimators=150, random_state=1)</pre></div></div></div><div class=\"sk-serial\"><div class=\"sk-item\"><div class=\"sk-estimator sk-toggleable\"><input class=\"sk-toggleable__control sk-hidden--visually\" id=\"sk-estimator-id-21\" type=\"checkbox\" ><label for=\"sk-estimator-id-21\" class=\"sk-toggleable__label sk-toggleable__label-arrow\">RandomForestRegressor</label><div class=\"sk-toggleable__content\"><pre>RandomForestRegressor(n_estimators=150, random_state=1)</pre></div></div></div></div></div></div></div></div><div class=\"sk-item\"><div class=\"sk-estimator sk-toggleable\"><input class=\"sk-toggleable__control sk-hidden--visually\" id=\"sk-estimator-id-22\" type=\"checkbox\" ><label for=\"sk-estimator-id-22\" class=\"sk-toggleable__label sk-toggleable__label-arrow\">MLPRegressor</label><div class=\"sk-toggleable__content\"><pre>MLPRegressor(max_iter=500, random_state=1)</pre></div></div></div></div></div></div></div>"
      ],
      "text/plain": [
       "Pipeline(steps=[('pre',\n",
       "                 ColumnTransformer(transformers=[('cat',\n",
       "                                                  OneHotEncoder(handle_unknown='ignore'),\n",
       "                                                  ['year']),\n",
       "                                                 ('num', RobustScaler(),\n",
       "                                                  ['weekday', 'day', 'month',\n",
       "                                                   'open', 'close', 'high',\n",
       "                                                   'low', 'volume', 'volumeUSD',\n",
       "                                                   'priceUSD'])])),\n",
       "                ('poly', PolynomialFeatures()),\n",
       "                ('selection',\n",
       "                 SelectFromModel(estimator=RandomForestRegressor(n_estimators=150,\n",
       "                                                                 random_state=1))),\n",
       "                ('a', MLPRegressor(max_iter=500, random_state=1))])"
      ]
     },
     "execution_count": 101,
     "metadata": {},
     "output_type": "execute_result"
    }
   ],
   "source": [
    "clf_xg = Pipeline(steps=[\n",
    "                    ('pre', preprocessor),\n",
    "                    ('poly', PolynomialFeatures(2)),\n",
    "                    ('selection', SelectFromModel(estimator=RandomForestRegressor(n_estimators=150, random_state=1))),\n",
    "                    ('a', MLPRegressor(random_state=1, max_iter=500, solver=\"adam\", alpha=0.0001, early_stopping=False)),\n",
    "                    ])\n",
    "\n",
    "clf_xg.fit(train[numeric_features + object_features], train['priceUSD'])"
   ]
  },
  {
   "cell_type": "code",
   "execution_count": 102,
   "id": "0cb1d416",
   "metadata": {},
   "outputs": [
    {
     "data": {
      "text/plain": [
       "['model.pkl']"
      ]
     },
     "execution_count": 102,
     "metadata": {},
     "output_type": "execute_result"
    }
   ],
   "source": [
    "import joblib\n",
    "model_filename = \"model.pkl\"\n",
    "joblib.dump(clf_xg, model_filename)"
   ]
  },
  {
   "cell_type": "code",
   "execution_count": 103,
   "id": "b1379a42",
   "metadata": {},
   "outputs": [],
   "source": [
    "predictions = clf_xg.predict(test[numeric_features + object_features])"
   ]
  },
  {
   "cell_type": "code",
   "execution_count": 104,
   "id": "2adad6fd",
   "metadata": {},
   "outputs": [],
   "source": [
    "mae = mean_absolute_error(np.expm1(test['priceUSD']), np.expm1(predictions), multioutput=\"raw_values\")"
   ]
  },
  {
   "cell_type": "code",
   "execution_count": 105,
   "id": "e42b5e4c",
   "metadata": {},
   "outputs": [
    {
     "data": {
      "text/plain": [
       "array([0.21230177])"
      ]
     },
     "execution_count": 105,
     "metadata": {},
     "output_type": "execute_result"
    }
   ],
   "source": [
    "mae"
   ]
  }
 ],
 "metadata": {
  "kernelspec": {
   "display_name": "Python 3 (ipykernel)",
   "language": "python",
   "name": "python3"
  },
  "language_info": {
   "codemirror_mode": {
    "name": "ipython",
    "version": 3
   },
   "file_extension": ".py",
   "mimetype": "text/x-python",
   "name": "python",
   "nbconvert_exporter": "python",
   "pygments_lexer": "ipython3",
   "version": "3.12.2"
  }
 },
 "nbformat": 4,
 "nbformat_minor": 5
}
