{
 "cells": [
  {
   "cell_type": "code",
   "execution_count": 1,
   "id": "eca455da",
   "metadata": {
    "_cell_guid": "b1076dfc-b9ad-4769-8c92-a6c4dae69d19",
    "_uuid": "8f2839f25d086af736a60e9eeb907d3b93b6e0e5",
    "execution": {
     "iopub.execute_input": "2022-02-06T21:14:21.792830Z",
     "iopub.status.busy": "2022-02-06T21:14:21.791058Z",
     "iopub.status.idle": "2022-02-06T21:14:23.157550Z",
     "shell.execute_reply": "2022-02-06T21:14:23.156449Z",
     "shell.execute_reply.started": "2022-02-06T21:12:43.710674Z"
    },
    "papermill": {
     "duration": 1.379813,
     "end_time": "2022-02-06T21:14:23.157933",
     "exception": false,
     "start_time": "2022-02-06T21:14:21.778120",
     "status": "completed"
    },
    "tags": []
   },
   "outputs": [],
   "source": [
    "import requests\n",
    "import json\n",
    "import pandas as pd\n",
    "import numpy as np\n",
    "from statsmodels.tsa.arima.model import ARIMA\n",
    "from statsmodels.tsa.arima_model import ARIMAResults\n",
    "import pickle\n",
    "import gzip"
   ]
  },
  {
   "cell_type": "code",
   "execution_count": 2,
   "id": "30449907",
   "metadata": {
    "execution": {
     "iopub.execute_input": "2022-02-06T21:14:23.178118Z",
     "iopub.status.busy": "2022-02-06T21:14:23.176780Z",
     "iopub.status.idle": "2022-02-06T21:14:23.618030Z",
     "shell.execute_reply": "2022-02-06T21:14:23.617425Z",
     "shell.execute_reply.started": "2022-02-06T21:12:43.720632Z"
    },
    "papermill": {
     "duration": 0.453647,
     "end_time": "2022-02-06T21:14:23.618208",
     "exception": false,
     "start_time": "2022-02-06T21:14:23.164561",
     "status": "completed"
    },
    "tags": []
   },
   "outputs": [],
   "source": [
    "url ='https://api.thegraph.com/subgraphs/name/uniswap/uniswap-v3'\n",
    "address = \"0x7d1afa7b718fb893db30a3abc0cfc608aacfebb0\"\n",
    "\n",
    "string = \"\"\"\n",
    "        {token (id: \"%s\"){tokenDayData { priceUSD date } } }\n",
    "        \"\"\" % address\n",
    "\n",
    "r = requests.post(url, json={'query': string})\n",
    "json_data = json.loads(r.text)"
   ]
  },
  {
   "cell_type": "code",
   "execution_count": 3,
   "id": "ced99b5c",
   "metadata": {
    "execution": {
     "iopub.execute_input": "2022-02-06T21:14:23.634614Z",
     "iopub.status.busy": "2022-02-06T21:14:23.633671Z",
     "iopub.status.idle": "2022-02-06T21:14:23.648086Z",
     "shell.execute_reply": "2022-02-06T21:14:23.648577Z",
     "shell.execute_reply.started": "2022-02-06T21:12:44.018152Z"
    },
    "papermill": {
     "duration": 0.024353,
     "end_time": "2022-02-06T21:14:23.648799",
     "exception": false,
     "start_time": "2022-02-06T21:14:23.624446",
     "status": "completed"
    },
    "tags": []
   },
   "outputs": [
    {
     "data": {
      "text/plain": [
       "{'data': {'token': {'tokenDayData': [{'date': 1620172800,\n",
       "     'priceUSD': '0.8190626828995727871142322608907779'},\n",
       "    {'date': 1620259200, 'priceUSD': '0.7598982820101466333255290192714618'},\n",
       "    {'date': 1620345600, 'priceUSD': '0.7443041919106500578273067560668887'},\n",
       "    {'date': 1620432000, 'priceUSD': '0.8583194177902746432712258589341726'},\n",
       "    {'date': 1620518400, 'priceUSD': '0.9703325062989384170928540621511288'},\n",
       "    {'date': 1620604800, 'priceUSD': '0.8866586816998281144846154552284741'},\n",
       "    {'date': 1620691200, 'priceUSD': '1.079741579592621242068911997102309'},\n",
       "    {'date': 1620777600, 'priceUSD': '1.021927486311967819061248572265125'},\n",
       "    {'date': 1620864000, 'priceUSD': '1.038396402294325856871504230701743'},\n",
       "    {'date': 1620950400, 'priceUSD': '1.492767518693125252910888761698836'},\n",
       "    {'date': 1621036800, 'priceUSD': '1.617193131329003128375901500669312'},\n",
       "    {'date': 1621123200, 'priceUSD': '1.71562737583804103674461235909921'},\n",
       "    {'date': 1621209600, 'priceUSD': '1.718652984352428105022477800234839'},\n",
       "    {'date': 1621296000, 'priceUSD': '2.463782475227335475416549462380502'},\n",
       "    {'date': 1621382400, 'priceUSD': '1.669013405769557307940892582051113'},\n",
       "    {'date': 1621468800, 'priceUSD': '1.819642435160277733308947410786691'},\n",
       "    {'date': 1621555200, 'priceUSD': '1.468380117589510902079366963155159'},\n",
       "    {'date': 1621641600, 'priceUSD': '1.198541459905962373384862185165134'},\n",
       "    {'date': 1621728000, 'priceUSD': '1.088001934918939390793100951634291'},\n",
       "    {'date': 1621814400, 'priceUSD': '1.734393891728403605815157340842358'},\n",
       "    {'date': 1621900800, 'priceUSD': '1.933964899565786322504419406831743'},\n",
       "    {'date': 1621987200, 'priceUSD': '2.206190805057991295448970473203933'},\n",
       "    {'date': 1622073600, 'priceUSD': '2.055078039878358784142530439809122'},\n",
       "    {'date': 1622160000, 'priceUSD': '1.828219440549997826512230940678432'},\n",
       "    {'date': 1622246400, 'priceUSD': '1.687862203218506656230616907283489'},\n",
       "    {'date': 1622332800, 'priceUSD': '1.856588925468837873227571185715657'},\n",
       "    {'date': 1622419200, 'priceUSD': '1.885965104916819437076379831623885'},\n",
       "    {'date': 1622505600, 'priceUSD': '1.831050126499311744946474300150037'},\n",
       "    {'date': 1622592000, 'priceUSD': '1.800809768992290262243418089029111'},\n",
       "    {'date': 1622678400, 'priceUSD': '1.833087842354841166851404692588122'},\n",
       "    {'date': 1622764800, 'priceUSD': '1.62726641955654956833771025773442'},\n",
       "    {'date': 1622851200, 'priceUSD': '1.520852006914840952645603364066758'},\n",
       "    {'date': 1622937600, 'priceUSD': '1.567243950313341860161681555983888'},\n",
       "    {'date': 1623024000, 'priceUSD': '1.480491184161419230439919572405228'},\n",
       "    {'date': 1623110400, 'priceUSD': '1.477833174973777748613810892307539'},\n",
       "    {'date': 1623196800, 'priceUSD': '1.487583366034758558335638523772521'},\n",
       "    {'date': 1623283200, 'priceUSD': '1.370060339682332995761249545401752'},\n",
       "    {'date': 1623369600, 'priceUSD': '1.249632254800526347231462866010514'},\n",
       "    {'date': 1623456000, 'priceUSD': '1.345883782850273570652972160937822'},\n",
       "    {'date': 1623542400, 'priceUSD': '1.465475976940340169985347148220065'},\n",
       "    {'date': 1623628800, 'priceUSD': '1.548202944761541708470270998474302'},\n",
       "    {'date': 1623715200, 'priceUSD': '1.638119805617480178870293396500122'},\n",
       "    {'date': 1623801600, 'priceUSD': '1.464962369269014272711988181300397'},\n",
       "    {'date': 1623888000, 'priceUSD': '1.502097027876595815779919589222494'},\n",
       "    {'date': 1623974400, 'priceUSD': '1.384259147839992516733207060165452'},\n",
       "    {'date': 1624060800, 'priceUSD': '1.357962063613960686002744073920735'},\n",
       "    {'date': 1624147200, 'priceUSD': '1.392111763281945338851148069393536'},\n",
       "    {'date': 1624233600, 'priceUSD': '1.097609281917345947725854244933389'},\n",
       "    {'date': 1624320000, 'priceUSD': '1.063946635005131580436708173643064'},\n",
       "    {'date': 1624406400, 'priceUSD': '1.179978336082544343488389818999273'},\n",
       "    {'date': 1624492800, 'priceUSD': '1.199423100247984131587900818018053'},\n",
       "    {'date': 1624579200, 'priceUSD': '1.052291276872498120668311628408528'},\n",
       "    {'date': 1624665600, 'priceUSD': '1.067359746186246823676427667864224'},\n",
       "    {'date': 1624752000, 'priceUSD': '1.105547720760382402829933618147023'},\n",
       "    {'date': 1624838400, 'priceUSD': '1.11739910948620674590351485905749'},\n",
       "    {'date': 1624924800, 'priceUSD': '1.172477139014995034477028445291656'},\n",
       "    {'date': 1625011200, 'priceUSD': '1.161421208811467486558604666203872'},\n",
       "    {'date': 1625097600, 'priceUSD': '1.077809325236566974424485422960864'},\n",
       "    {'date': 1625184000, 'priceUSD': '1.102767386546105297594891174409715'},\n",
       "    {'date': 1625270400, 'priceUSD': '1.122135263908991848440098519538849'},\n",
       "    {'date': 1625356800, 'priceUSD': '1.151679808029529952893455208730704'},\n",
       "    {'date': 1625443200, 'priceUSD': '1.098388080852225645973740189963064'},\n",
       "    {'date': 1625529600, 'priceUSD': '1.12519843311373922005024212408596'},\n",
       "    {'date': 1625616000, 'priceUSD': '1.127236186267941572445070476532756'},\n",
       "    {'date': 1625702400, 'priceUSD': '1.047281752638237975811930250283312'},\n",
       "    {'date': 1625788800, 'priceUSD': '1.061402358098703007792175231977389'},\n",
       "    {'date': 1625875200, 'priceUSD': '1.035507241251930405440737619506074'},\n",
       "    {'date': 1625961600, 'priceUSD': '1.043303957343343686202137934942533'},\n",
       "    {'date': 1626048000, 'priceUSD': '0.9917985361486676931941801968385559'},\n",
       "    {'date': 1626134400, 'priceUSD': '0.9456697601718922722128098340711827'},\n",
       "    {'date': 1626220800, 'priceUSD': '0.9266278396434821374665912074994863'},\n",
       "    {'date': 1626307200, 'priceUSD': '0.870386828873360711907013439332938'},\n",
       "    {'date': 1626393600, 'priceUSD': '0.8108948190489062565263422681265679'},\n",
       "    {'date': 1626480000, 'priceUSD': '0.8029640902782110419933176926468842'},\n",
       "    {'date': 1626566400, 'priceUSD': '0.7978844293433716137344745868084'},\n",
       "    {'date': 1626652800, 'priceUSD': '0.7381026340638257392983396440462045'},\n",
       "    {'date': 1626739200, 'priceUSD': '0.6945886496655380897118557478624881'},\n",
       "    {'date': 1626825600, 'priceUSD': '0.8950125004675484976405769316942285'},\n",
       "    {'date': 1626912000, 'priceUSD': '0.8838262986511679057675344742051465'},\n",
       "    {'date': 1626998400, 'priceUSD': '0.9472406880178502437191227308755223'},\n",
       "    {'date': 1627084800, 'priceUSD': '0.9514788282253277129993565872559955'},\n",
       "    {'date': 1627171200, 'priceUSD': '0.9335720197173899980822422910909217'},\n",
       "    {'date': 1627257600, 'priceUSD': '1.024698422360270597924800199046404'},\n",
       "    {'date': 1627344000, 'priceUSD': '1.031185363950676924978709882997114'},\n",
       "    {'date': 1627430400, 'priceUSD': '1.015633453838953301289430971416289'},\n",
       "    {'date': 1627516800, 'priceUSD': '1.032063775158248783657622776876953'},\n",
       "    {'date': 1627603200, 'priceUSD': '1.061651893165092926203348928677857'},\n",
       "    {'date': 1627689600, 'priceUSD': '1.089415863019568144050988265582804'},\n",
       "    {'date': 1627776000, 'priceUSD': '1.051764690444302173836710641703578'},\n",
       "    {'date': 1627862400, 'priceUSD': '1.047875985972673209950948231474599'},\n",
       "    {'date': 1627948800, 'priceUSD': '1.024156535977890280314357584510466'},\n",
       "    {'date': 1628035200, 'priceUSD': '1.05237228434474028750776510034295'},\n",
       "    {'date': 1628121600, 'priceUSD': '1.066132541153227529609426056280746'},\n",
       "    {'date': 1628208000, 'priceUSD': '1.07416056495163790637631964421494'},\n",
       "    {'date': 1628294400, 'priceUSD': '1.171895914446065961048379457537102'},\n",
       "    {'date': 1628380800, 'priceUSD': '1.089659566956907920064000214395567'},\n",
       "    {'date': 1628467200, 'priceUSD': '1.136783680271361532918867212847471'},\n",
       "    {'date': 1628553600, 'priceUSD': '1.151839565444399954892388676059256'},\n",
       "    {'date': 1628640000, 'priceUSD': '1.376791426902176141353407749064419'},\n",
       "    {'date': 1628726400, 'priceUSD': '1.318684315557555255431235597773717'}]}}}"
      ]
     },
     "execution_count": 3,
     "metadata": {},
     "output_type": "execute_result"
    }
   ],
   "source": [
    "json_data"
   ]
  },
  {
   "cell_type": "code",
   "execution_count": 4,
   "id": "9b26e10c",
   "metadata": {
    "execution": {
     "iopub.execute_input": "2022-02-06T21:14:23.667064Z",
     "iopub.status.busy": "2022-02-06T21:14:23.666275Z",
     "iopub.status.idle": "2022-02-06T21:14:23.777951Z",
     "shell.execute_reply": "2022-02-06T21:14:23.778666Z",
     "shell.execute_reply.started": "2022-02-06T21:12:44.035953Z"
    },
    "papermill": {
     "duration": 0.122658,
     "end_time": "2022-02-06T21:14:23.778888",
     "exception": false,
     "start_time": "2022-02-06T21:14:23.656230",
     "status": "completed"
    },
    "tags": []
   },
   "outputs": [],
   "source": [
    "df_data = json_data['data']['token']['tokenDayData']\n",
    "df = pd.DataFrame(df_data)\n",
    "\n",
    "df.priceUSD = df.priceUSD.replace(0, np.nan).dropna()\n",
    "df.priceUSD = df.priceUSD.astype(float)\n",
    "\n",
    "last = df.date.iloc[-1:].values[0]\n",
    "timestep = df.date.iloc[-1:].values[0]-df.date.iloc[-2:-1].values[0]\n",
    "model = ARIMA(df.priceUSD, order=(1,1,0))\n",
    "fitted = model.fit()\n",
    "\n",
    "# Forecast\n",
    "fc = fitted.forecast(10)"
   ]
  },
  {
   "cell_type": "code",
   "execution_count": 6,
   "id": "baff63d5",
   "metadata": {
    "execution": {
     "iopub.execute_input": "2022-02-06T21:14:23.832161Z",
     "iopub.status.busy": "2022-02-06T21:14:23.831457Z",
     "iopub.status.idle": "2022-02-06T21:14:23.857442Z",
     "shell.execute_reply": "2022-02-06T21:14:23.857995Z",
     "shell.execute_reply.started": "2022-02-06T21:12:44.201591Z"
    },
    "papermill": {
     "duration": 0.036637,
     "end_time": "2022-02-06T21:14:23.858194",
     "exception": false,
     "start_time": "2022-02-06T21:14:23.821557",
     "status": "completed"
    },
    "tags": []
   },
   "outputs": [],
   "source": [
    "with open('../input/ipfs-cid/bafkreieok3gxhtdx4jmw6qzhr3oayionjp3xqz5ymbkubxvn4sohlrurkm', 'rb') as pkl:\n",
    "    pickle_preds = pickle.load(pkl).forecast(10)"
   ]
  },
  {
   "cell_type": "code",
   "execution_count": 7,
   "id": "ec527930",
   "metadata": {
    "execution": {
     "iopub.execute_input": "2022-02-06T21:14:23.875372Z",
     "iopub.status.busy": "2022-02-06T21:14:23.874709Z",
     "iopub.status.idle": "2022-02-06T21:14:23.881996Z",
     "shell.execute_reply": "2022-02-06T21:14:23.882562Z",
     "shell.execute_reply.started": "2022-02-06T21:12:44.246451Z"
    },
    "papermill": {
     "duration": 0.017666,
     "end_time": "2022-02-06T21:14:23.882781",
     "exception": false,
     "start_time": "2022-02-06T21:14:23.865115",
     "status": "completed"
    },
    "tags": []
   },
   "outputs": [
    {
     "data": {
      "text/plain": [
       "100    28.993105\n",
       "101    29.013279\n",
       "102    29.005426\n",
       "103    29.008483\n",
       "104    29.007293\n",
       "105    29.007756\n",
       "106    29.007576\n",
       "107    29.007646\n",
       "108    29.007619\n",
       "109    29.007629\n",
       "Name: predicted_mean, dtype: float64"
      ]
     },
     "execution_count": 7,
     "metadata": {},
     "output_type": "execute_result"
    }
   ],
   "source": [
    "pickle_preds"
   ]
  }
 ],
 "metadata": {
  "kernelspec": {
   "display_name": "Python 3 (ipykernel)",
   "language": "python",
   "name": "python3"
  },
  "language_info": {
   "codemirror_mode": {
    "name": "ipython",
    "version": 3
   },
   "file_extension": ".py",
   "mimetype": "text/x-python",
   "name": "python",
   "nbconvert_exporter": "python",
   "pygments_lexer": "ipython3",
   "version": "3.12.2"
  },
  "papermill": {
   "default_parameters": {},
   "duration": 12.484817,
   "end_time": "2022-02-06T21:14:24.801779",
   "environment_variables": {},
   "exception": null,
   "input_path": "__notebook__.ipynb",
   "output_path": "__notebook__.ipynb",
   "parameters": {},
   "start_time": "2022-02-06T21:14:12.316962",
   "version": "2.3.3"
  }
 },
 "nbformat": 4,
 "nbformat_minor": 5
}
